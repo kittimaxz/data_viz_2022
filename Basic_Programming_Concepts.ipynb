{
  "nbformat": 4,
  "nbformat_minor": 0,
  "metadata": {
    "colab": {
      "name": "Basic Programming Concepts.ipynb",
      "provenance": [],
      "authorship_tag": "ABX9TyPp2AUNZAkpO/RlNRjro2gP",
      "include_colab_link": true
    },
    "kernelspec": {
      "name": "python3",
      "display_name": "Python 3"
    },
    "language_info": {
      "name": "python"
    }
  },
  "cells": [
    {
      "cell_type": "markdown",
      "metadata": {
        "id": "view-in-github",
        "colab_type": "text"
      },
      "source": [
        "<a href=\"https://colab.research.google.com/github/kittimaxz/data_viz_2022/blob/main/Basic_Programming_Concepts.ipynb\" target=\"_parent\"><img src=\"https://colab.research.google.com/assets/colab-badge.svg\" alt=\"Open In Colab\"/></a>"
      ]
    },
    {
      "cell_type": "markdown",
      "source": [
        "# Functions ($f(x) = y$)"
      ],
      "metadata": {
        "id": "EVtUhEtXDmhJ"
      }
    },
    {
      "cell_type": "markdown",
      "source": [
        "```python\n",
        "def function_name(input_x) :\n",
        "    do someting with input_x to get output_y\n",
        "    return output_y\n",
        "```"
      ],
      "metadata": {
        "id": "h5ZeFeYdEcw5"
      }
    },
    {
      "cell_type": "markdown",
      "source": [
        "$f_1(x) = x^2 + 75$"
      ],
      "metadata": {
        "id": "JPOPxbjfF5Ma"
      }
    },
    {
      "cell_type": "code",
      "execution_count": 3,
      "metadata": {
        "colab": {
          "base_uri": "https://localhost:8080/"
        },
        "id": "Oz1X1kRfDfBF",
        "outputId": "013ace55-90c8-470d-f3d6-d63419866f59"
      },
      "outputs": [
        {
          "output_type": "stream",
          "name": "stdout",
          "text": [
            "done!\n"
          ]
        }
      ],
      "source": [
        "def function_f1(x) : \n",
        "    a = x ** 2\n",
        "    y = a + 75\n",
        "    return y\n",
        "\n",
        "print('done!') # ไม่ได้เยื่องเหมือนตัวข้างบน ดังนั้นไม่มีผลต่อ function ข้างบน"
      ]
    },
    {
      "cell_type": "code",
      "source": [
        "function_f1(3)"
      ],
      "metadata": {
        "colab": {
          "base_uri": "https://localhost:8080/"
        },
        "id": "AFNHjPqTGXYX",
        "outputId": "72f22570-5313-4238-a54e-52f3f67740df"
      },
      "execution_count": 4,
      "outputs": [
        {
          "output_type": "execute_result",
          "data": {
            "text/plain": [
              "84"
            ]
          },
          "metadata": {},
          "execution_count": 4
        }
      ]
    },
    {
      "cell_type": "markdown",
      "source": [
        "function มีส่วนสำคัญ 4 ส่วน\n",
        "\n",
        "1. บอก python ว่าเราจะเขียนฟังก์ชัน ชื่ออะไร def finction_name() : (ขาดไม่ได้)\n",
        "2. กำหนดตัวแปรที่จะเป็น input Input (ขาดได้)\n",
        "3. ส่วนประมวลผล do someting with input to get output (ขาดไม่ได้)\n",
        "4. ส่วน output return Output (ขาดได้)"
      ],
      "metadata": {
        "id": "ko4PbJW2HYcC"
      }
    },
    {
      "cell_type": "markdown",
      "source": [
        "## ตัวอย่าง function ที่ที่ส่วนประกอบครบ"
      ],
      "metadata": {
        "id": "TN5Qie7sIJr8"
      }
    },
    {
      "cell_type": "code",
      "source": [
        "def function_f1(x) : \n",
        "    a = x ** 2\n",
        "    y = a + 75\n",
        "    return y"
      ],
      "metadata": {
        "id": "h_sYgiMvITw4"
      },
      "execution_count": 5,
      "outputs": []
    },
    {
      "cell_type": "markdown",
      "source": [
        "## ตัวอย่าง function ที่ที่ไม่มี input"
      ],
      "metadata": {
        "id": "1CqzWzAWIghB"
      }
    },
    {
      "cell_type": "code",
      "source": [
        "def pi_v() :\n",
        "    y = 3.14159265359\n",
        "    return y"
      ],
      "metadata": {
        "id": "WmR2T1R5Ipev"
      },
      "execution_count": 6,
      "outputs": []
    },
    {
      "cell_type": "code",
      "source": [
        "piv = pi_v()\n",
        "circle_area_r2 = piv*(2**2)\n",
        "print(circle_area_r2)"
      ],
      "metadata": {
        "colab": {
          "base_uri": "https://localhost:8080/"
        },
        "id": "eA90yY-5I0WU",
        "outputId": "0211cb34-291d-4b85-d773-99eb4793e92f"
      },
      "execution_count": 7,
      "outputs": [
        {
          "output_type": "stream",
          "name": "stdout",
          "text": [
            "12.56637061436\n"
          ]
        }
      ]
    },
    {
      "cell_type": "markdown",
      "source": [
        "## Function ไม่มี process ไม่ได้"
      ],
      "metadata": {
        "id": "MMcYZGp7JMEQ"
      }
    },
    {
      "cell_type": "code",
      "source": [
        "def function_a() :"
      ],
      "metadata": {
        "colab": {
          "base_uri": "https://localhost:8080/",
          "height": 132
        },
        "id": "DYay4j-0I2IQ",
        "outputId": "19e65b28-44a0-42ac-e9f5-41e48b01d6fd"
      },
      "execution_count": 8,
      "outputs": [
        {
          "output_type": "error",
          "ename": "SyntaxError",
          "evalue": "ignored",
          "traceback": [
            "\u001b[0;36m  File \u001b[0;32m\"<ipython-input-8-7719cacbf1d9>\"\u001b[0;36m, line \u001b[0;32m1\u001b[0m\n\u001b[0;31m    def function_a() :\u001b[0m\n\u001b[0m                      ^\u001b[0m\n\u001b[0;31mSyntaxError\u001b[0m\u001b[0;31m:\u001b[0m unexpected EOF while parsing\n"
          ]
        }
      ]
    },
    {
      "cell_type": "markdown",
      "source": [
        "## ตัวอย่าง function ที่ไม่มี output"
      ],
      "metadata": {
        "id": "1b93qCfxJYDE"
      }
    },
    {
      "cell_type": "code",
      "source": [
        "def print_name_id(name,id) :\n",
        "    print(f'ชื่อ {name} รหัสประจำตัว {id}')"
      ],
      "metadata": {
        "id": "6kjZHnetI2Fn"
      },
      "execution_count": 9,
      "outputs": []
    },
    {
      "cell_type": "code",
      "source": [
        "print_name_id('กิตติมา','623021040-9')"
      ],
      "metadata": {
        "colab": {
          "base_uri": "https://localhost:8080/"
        },
        "id": "y6V2cETdI2C_",
        "outputId": "939d845c-e56e-4c64-f7be-7bf073cd3eb9"
      },
      "execution_count": 10,
      "outputs": [
        {
          "output_type": "stream",
          "name": "stdout",
          "text": [
            "ชื่อ กิตติมา รหัสประจำตัว 623021040-9\n"
          ]
        }
      ]
    },
    {
      "cell_type": "code",
      "source": [
        "a = print_name_id('กิตติมา','623021040-9')"
      ],
      "metadata": {
        "colab": {
          "base_uri": "https://localhost:8080/"
        },
        "id": "G80obGSOI1_8",
        "outputId": "2a444031-d615-4598-e3a7-9ee9b23a5052"
      },
      "execution_count": 11,
      "outputs": [
        {
          "output_type": "stream",
          "name": "stdout",
          "text": [
            "ชื่อ กิตติมา รหัสประจำตัว 623021040-9\n"
          ]
        }
      ]
    },
    {
      "cell_type": "code",
      "source": [
        "a"
      ],
      "metadata": {
        "id": "Xy6zN7jjI16V"
      },
      "execution_count": 12,
      "outputs": []
    },
    {
      "cell_type": "code",
      "source": [
        "print('กิตติมา')\n",
        "print('623021040-9')"
      ],
      "metadata": {
        "colab": {
          "base_uri": "https://localhost:8080/"
        },
        "id": "DufeB5vFI1yP",
        "outputId": "f4445448-5a38-486d-8137-7b3e04f05999"
      },
      "execution_count": 13,
      "outputs": [
        {
          "output_type": "stream",
          "name": "stdout",
          "text": [
            "กิตติมา\n",
            "623021040-9\n"
          ]
        }
      ]
    },
    {
      "cell_type": "code",
      "source": [
        "print('กิตติมา',end='->')\n",
        "print('623021040-9')"
      ],
      "metadata": {
        "colab": {
          "base_uri": "https://localhost:8080/"
        },
        "id": "pNR1qZx4I1dD",
        "outputId": "a0190f28-3bb3-4494-aec7-22d77e1219f9"
      },
      "execution_count": 14,
      "outputs": [
        {
          "output_type": "stream",
          "name": "stdout",
          "text": [
            "กิตติมา->623021040-9\n"
          ]
        }
      ]
    },
    {
      "cell_type": "code",
      "source": [
        "print('กิตติมา','623021040-9')"
      ],
      "metadata": {
        "colab": {
          "base_uri": "https://localhost:8080/"
        },
        "id": "OhJVHySSPhuo",
        "outputId": "658ea47f-01be-4f7b-9f36-58dba6348ab4"
      },
      "execution_count": 15,
      "outputs": [
        {
          "output_type": "stream",
          "name": "stdout",
          "text": [
            "กิตติมา 623021040-9\n"
          ]
        }
      ]
    },
    {
      "cell_type": "code",
      "source": [
        "print('กิตติมา','623021040-9',sep = ' & ')"
      ],
      "metadata": {
        "colab": {
          "base_uri": "https://localhost:8080/"
        },
        "id": "fJCBT4tWPnGd",
        "outputId": "125e76a3-4b76-49bd-8c55-4a0a565164bf"
      },
      "execution_count": 17,
      "outputs": [
        {
          "output_type": "stream",
          "name": "stdout",
          "text": [
            "กิตติมา & 623021040-9\n"
          ]
        }
      ]
    },
    {
      "cell_type": "markdown",
      "source": [
        "## input ของ function แบ่งออกเป็น 2 ชนิด (จำเป็นต้องใส่ กับ ไม่จำเป็นต้องใส่)"
      ],
      "metadata": {
        "id": "6cFRqqh0QC5-"
      }
    },
    {
      "cell_type": "markdown",
      "source": [
        "ตัวอย่าง function `print_grade()` มี input 3 ตัว  ที่จำเป็นต้องใส่ 2 ตัว คือ name กับ id และไม่จำเป็นต้องใส่ 1 ตัว คือ เกรด ซึ่งมีค่า default เป็น F"
      ],
      "metadata": {
        "id": "patMvfZARDux"
      }
    },
    {
      "cell_type": "code",
      "source": [
        "def print_grade(name,id,grade = 'F') :\n",
        "    print(f'รหัสประจำตัว {id} ชื่อ {name}')\n",
        "    print(f'ได้เกรด {grade}')"
      ],
      "metadata": {
        "id": "u78Uz11dQPhq"
      },
      "execution_count": 19,
      "outputs": []
    },
    {
      "cell_type": "code",
      "source": [
        "print_grade('นางสาวกิตติมา อุปสุข','623021040-9')"
      ],
      "metadata": {
        "colab": {
          "base_uri": "https://localhost:8080/"
        },
        "id": "BSPESyPSRr8p",
        "outputId": "1aebd7c2-8858-47a3-c7f2-de37ac8226ce"
      },
      "execution_count": 20,
      "outputs": [
        {
          "output_type": "stream",
          "name": "stdout",
          "text": [
            "รหัสประจำตัว 623021040-9 ชื่อ นางสาวกิตติมา อุปสุข\n",
            "ได้เกรด F\n"
          ]
        }
      ]
    },
    {
      "cell_type": "code",
      "source": [
        "print_grade('นางสาวกิตติมา อุปสุข','623021040-9','A')"
      ],
      "metadata": {
        "colab": {
          "base_uri": "https://localhost:8080/"
        },
        "id": "Gzs6K1MyR2-q",
        "outputId": "a8ef7f4e-7390-4b0c-fe33-2ff338a22029"
      },
      "execution_count": 21,
      "outputs": [
        {
          "output_type": "stream",
          "name": "stdout",
          "text": [
            "รหัสประจำตัว 623021040-9 ชื่อ นางสาวกิตติมา อุปสุข\n",
            "ได้เกรด A\n"
          ]
        }
      ]
    },
    {
      "cell_type": "code",
      "source": [
        "print_grade(id = '623021040-9',name = 'นางสาวกิตติมา อุปสุข',grade = 'B+')"
      ],
      "metadata": {
        "colab": {
          "base_uri": "https://localhost:8080/"
        },
        "id": "mdzUN076R64h",
        "outputId": "518835aa-5ad5-49f7-9d57-dec2861a31d0"
      },
      "execution_count": 22,
      "outputs": [
        {
          "output_type": "stream",
          "name": "stdout",
          "text": [
            "รหัสประจำตัว 623021040-9 ชื่อ นางสาวกิตติมา อุปสุข\n",
            "ได้เกรด B+\n"
          ]
        }
      ]
    },
    {
      "cell_type": "markdown",
      "source": [
        "# Looping (for)"
      ],
      "metadata": {
        "id": "AvvXFE6nDqIm"
      }
    },
    {
      "cell_type": "markdown",
      "source": [
        "# Conditional Statement (if)"
      ],
      "metadata": {
        "id": "QuwnbqywDuih"
      }
    }
  ]
}